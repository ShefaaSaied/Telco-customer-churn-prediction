{
 "cells": [
  {
   "cell_type": "code",
   "execution_count": 1,
   "id": "fa6b567a",
   "metadata": {},
   "outputs": [],
   "source": [
    "import numpy as np \n",
    "import pandas as pd \n",
    "import seaborn as sns \n",
    "import matplotlib.ticker as mtick \n",
    "import matplotlib.pyplot as plt\n",
    "from sklearn import preprocessing\n",
    "from sklearn.preprocessing import MinMaxScaler,StandardScaler\n",
    "from sklearn.model_selection import GridSearchCV, RandomizedSearchCV, train_test_split, StratifiedKFold, cross_val_score\n",
    "from sklearn.ensemble import RandomForestClassifier\n",
    "from sklearn.linear_model import LogisticRegression\n",
    "from sklearn.svm import SVC\n",
    "from sklearn import metrics\n",
    "from imblearn.over_sampling import SMOTE\n",
    "from imblearn.under_sampling import NearMiss,CondensedNearestNeighbour\n",
    "from sklearn.metrics import plot_confusion_matrix, classification_report, confusion_matrix, ConfusionMatrixDisplay\n",
    "import xgboost as xgb\n",
    "from xgboost import XGBRegressor\n",
    "from sklearn.neural_network import MLPClassifier\n",
    "import warnings\n",
    "warnings.filterwarnings('ignore')\n",
    "sns.set_style(\"darkgrid\")"
   ]
  },
  {
   "cell_type": "code",
   "execution_count": 2,
   "id": "9250b853",
   "metadata": {
    "scrolled": true
   },
   "outputs": [
    {
     "data": {
      "text/html": [
       "<div>\n",
       "<style scoped>\n",
       "    .dataframe tbody tr th:only-of-type {\n",
       "        vertical-align: middle;\n",
       "    }\n",
       "\n",
       "    .dataframe tbody tr th {\n",
       "        vertical-align: top;\n",
       "    }\n",
       "\n",
       "    .dataframe thead th {\n",
       "        text-align: right;\n",
       "    }\n",
       "</style>\n",
       "<table border=\"1\" class=\"dataframe\">\n",
       "  <thead>\n",
       "    <tr style=\"text-align: right;\">\n",
       "      <th></th>\n",
       "      <th>customerID</th>\n",
       "      <th>gender</th>\n",
       "      <th>SeniorCitizen</th>\n",
       "      <th>Partner</th>\n",
       "      <th>Dependents</th>\n",
       "      <th>tenure</th>\n",
       "      <th>PhoneService</th>\n",
       "      <th>MultipleLines</th>\n",
       "      <th>InternetService</th>\n",
       "      <th>OnlineSecurity</th>\n",
       "      <th>...</th>\n",
       "      <th>DeviceProtection</th>\n",
       "      <th>TechSupport</th>\n",
       "      <th>StreamingTV</th>\n",
       "      <th>StreamingMovies</th>\n",
       "      <th>Contract</th>\n",
       "      <th>PaperlessBilling</th>\n",
       "      <th>PaymentMethod</th>\n",
       "      <th>MonthlyCharges</th>\n",
       "      <th>TotalCharges</th>\n",
       "      <th>Churn</th>\n",
       "    </tr>\n",
       "  </thead>\n",
       "  <tbody>\n",
       "    <tr>\n",
       "      <th>0</th>\n",
       "      <td>7590-VHVEG</td>\n",
       "      <td>Female</td>\n",
       "      <td>0</td>\n",
       "      <td>Yes</td>\n",
       "      <td>No</td>\n",
       "      <td>1</td>\n",
       "      <td>No</td>\n",
       "      <td>No phone service</td>\n",
       "      <td>DSL</td>\n",
       "      <td>No</td>\n",
       "      <td>...</td>\n",
       "      <td>No</td>\n",
       "      <td>No</td>\n",
       "      <td>No</td>\n",
       "      <td>No</td>\n",
       "      <td>Month-to-month</td>\n",
       "      <td>Yes</td>\n",
       "      <td>Electronic check</td>\n",
       "      <td>29.85</td>\n",
       "      <td>29.85</td>\n",
       "      <td>No</td>\n",
       "    </tr>\n",
       "    <tr>\n",
       "      <th>1</th>\n",
       "      <td>5575-GNVDE</td>\n",
       "      <td>Male</td>\n",
       "      <td>0</td>\n",
       "      <td>No</td>\n",
       "      <td>No</td>\n",
       "      <td>34</td>\n",
       "      <td>Yes</td>\n",
       "      <td>No</td>\n",
       "      <td>DSL</td>\n",
       "      <td>Yes</td>\n",
       "      <td>...</td>\n",
       "      <td>Yes</td>\n",
       "      <td>No</td>\n",
       "      <td>No</td>\n",
       "      <td>No</td>\n",
       "      <td>One year</td>\n",
       "      <td>No</td>\n",
       "      <td>Mailed check</td>\n",
       "      <td>56.95</td>\n",
       "      <td>1889.5</td>\n",
       "      <td>No</td>\n",
       "    </tr>\n",
       "    <tr>\n",
       "      <th>2</th>\n",
       "      <td>3668-QPYBK</td>\n",
       "      <td>Male</td>\n",
       "      <td>0</td>\n",
       "      <td>No</td>\n",
       "      <td>No</td>\n",
       "      <td>2</td>\n",
       "      <td>Yes</td>\n",
       "      <td>No</td>\n",
       "      <td>DSL</td>\n",
       "      <td>Yes</td>\n",
       "      <td>...</td>\n",
       "      <td>No</td>\n",
       "      <td>No</td>\n",
       "      <td>No</td>\n",
       "      <td>No</td>\n",
       "      <td>Month-to-month</td>\n",
       "      <td>Yes</td>\n",
       "      <td>Mailed check</td>\n",
       "      <td>53.85</td>\n",
       "      <td>108.15</td>\n",
       "      <td>Yes</td>\n",
       "    </tr>\n",
       "    <tr>\n",
       "      <th>3</th>\n",
       "      <td>7795-CFOCW</td>\n",
       "      <td>Male</td>\n",
       "      <td>0</td>\n",
       "      <td>No</td>\n",
       "      <td>No</td>\n",
       "      <td>45</td>\n",
       "      <td>No</td>\n",
       "      <td>No phone service</td>\n",
       "      <td>DSL</td>\n",
       "      <td>Yes</td>\n",
       "      <td>...</td>\n",
       "      <td>Yes</td>\n",
       "      <td>Yes</td>\n",
       "      <td>No</td>\n",
       "      <td>No</td>\n",
       "      <td>One year</td>\n",
       "      <td>No</td>\n",
       "      <td>Bank transfer (automatic)</td>\n",
       "      <td>42.30</td>\n",
       "      <td>1840.75</td>\n",
       "      <td>No</td>\n",
       "    </tr>\n",
       "    <tr>\n",
       "      <th>4</th>\n",
       "      <td>9237-HQITU</td>\n",
       "      <td>Female</td>\n",
       "      <td>0</td>\n",
       "      <td>No</td>\n",
       "      <td>No</td>\n",
       "      <td>2</td>\n",
       "      <td>Yes</td>\n",
       "      <td>No</td>\n",
       "      <td>Fiber optic</td>\n",
       "      <td>No</td>\n",
       "      <td>...</td>\n",
       "      <td>No</td>\n",
       "      <td>No</td>\n",
       "      <td>No</td>\n",
       "      <td>No</td>\n",
       "      <td>Month-to-month</td>\n",
       "      <td>Yes</td>\n",
       "      <td>Electronic check</td>\n",
       "      <td>70.70</td>\n",
       "      <td>151.65</td>\n",
       "      <td>Yes</td>\n",
       "    </tr>\n",
       "    <tr>\n",
       "      <th>...</th>\n",
       "      <td>...</td>\n",
       "      <td>...</td>\n",
       "      <td>...</td>\n",
       "      <td>...</td>\n",
       "      <td>...</td>\n",
       "      <td>...</td>\n",
       "      <td>...</td>\n",
       "      <td>...</td>\n",
       "      <td>...</td>\n",
       "      <td>...</td>\n",
       "      <td>...</td>\n",
       "      <td>...</td>\n",
       "      <td>...</td>\n",
       "      <td>...</td>\n",
       "      <td>...</td>\n",
       "      <td>...</td>\n",
       "      <td>...</td>\n",
       "      <td>...</td>\n",
       "      <td>...</td>\n",
       "      <td>...</td>\n",
       "      <td>...</td>\n",
       "    </tr>\n",
       "    <tr>\n",
       "      <th>7038</th>\n",
       "      <td>6840-RESVB</td>\n",
       "      <td>Male</td>\n",
       "      <td>0</td>\n",
       "      <td>Yes</td>\n",
       "      <td>Yes</td>\n",
       "      <td>24</td>\n",
       "      <td>Yes</td>\n",
       "      <td>Yes</td>\n",
       "      <td>DSL</td>\n",
       "      <td>Yes</td>\n",
       "      <td>...</td>\n",
       "      <td>Yes</td>\n",
       "      <td>Yes</td>\n",
       "      <td>Yes</td>\n",
       "      <td>Yes</td>\n",
       "      <td>One year</td>\n",
       "      <td>Yes</td>\n",
       "      <td>Mailed check</td>\n",
       "      <td>84.80</td>\n",
       "      <td>1990.5</td>\n",
       "      <td>No</td>\n",
       "    </tr>\n",
       "    <tr>\n",
       "      <th>7039</th>\n",
       "      <td>2234-XADUH</td>\n",
       "      <td>Female</td>\n",
       "      <td>0</td>\n",
       "      <td>Yes</td>\n",
       "      <td>Yes</td>\n",
       "      <td>72</td>\n",
       "      <td>Yes</td>\n",
       "      <td>Yes</td>\n",
       "      <td>Fiber optic</td>\n",
       "      <td>No</td>\n",
       "      <td>...</td>\n",
       "      <td>Yes</td>\n",
       "      <td>No</td>\n",
       "      <td>Yes</td>\n",
       "      <td>Yes</td>\n",
       "      <td>One year</td>\n",
       "      <td>Yes</td>\n",
       "      <td>Credit card (automatic)</td>\n",
       "      <td>103.20</td>\n",
       "      <td>7362.9</td>\n",
       "      <td>No</td>\n",
       "    </tr>\n",
       "    <tr>\n",
       "      <th>7040</th>\n",
       "      <td>4801-JZAZL</td>\n",
       "      <td>Female</td>\n",
       "      <td>0</td>\n",
       "      <td>Yes</td>\n",
       "      <td>Yes</td>\n",
       "      <td>11</td>\n",
       "      <td>No</td>\n",
       "      <td>No phone service</td>\n",
       "      <td>DSL</td>\n",
       "      <td>Yes</td>\n",
       "      <td>...</td>\n",
       "      <td>No</td>\n",
       "      <td>No</td>\n",
       "      <td>No</td>\n",
       "      <td>No</td>\n",
       "      <td>Month-to-month</td>\n",
       "      <td>Yes</td>\n",
       "      <td>Electronic check</td>\n",
       "      <td>29.60</td>\n",
       "      <td>346.45</td>\n",
       "      <td>No</td>\n",
       "    </tr>\n",
       "    <tr>\n",
       "      <th>7041</th>\n",
       "      <td>8361-LTMKD</td>\n",
       "      <td>Male</td>\n",
       "      <td>1</td>\n",
       "      <td>Yes</td>\n",
       "      <td>No</td>\n",
       "      <td>4</td>\n",
       "      <td>Yes</td>\n",
       "      <td>Yes</td>\n",
       "      <td>Fiber optic</td>\n",
       "      <td>No</td>\n",
       "      <td>...</td>\n",
       "      <td>No</td>\n",
       "      <td>No</td>\n",
       "      <td>No</td>\n",
       "      <td>No</td>\n",
       "      <td>Month-to-month</td>\n",
       "      <td>Yes</td>\n",
       "      <td>Mailed check</td>\n",
       "      <td>74.40</td>\n",
       "      <td>306.6</td>\n",
       "      <td>Yes</td>\n",
       "    </tr>\n",
       "    <tr>\n",
       "      <th>7042</th>\n",
       "      <td>3186-AJIEK</td>\n",
       "      <td>Male</td>\n",
       "      <td>0</td>\n",
       "      <td>No</td>\n",
       "      <td>No</td>\n",
       "      <td>66</td>\n",
       "      <td>Yes</td>\n",
       "      <td>No</td>\n",
       "      <td>Fiber optic</td>\n",
       "      <td>Yes</td>\n",
       "      <td>...</td>\n",
       "      <td>Yes</td>\n",
       "      <td>Yes</td>\n",
       "      <td>Yes</td>\n",
       "      <td>Yes</td>\n",
       "      <td>Two year</td>\n",
       "      <td>Yes</td>\n",
       "      <td>Bank transfer (automatic)</td>\n",
       "      <td>105.65</td>\n",
       "      <td>6844.5</td>\n",
       "      <td>No</td>\n",
       "    </tr>\n",
       "  </tbody>\n",
       "</table>\n",
       "<p>7043 rows × 21 columns</p>\n",
       "</div>"
      ],
      "text/plain": [
       "      customerID  gender  SeniorCitizen Partner Dependents  tenure  \\\n",
       "0     7590-VHVEG  Female              0     Yes         No       1   \n",
       "1     5575-GNVDE    Male              0      No         No      34   \n",
       "2     3668-QPYBK    Male              0      No         No       2   \n",
       "3     7795-CFOCW    Male              0      No         No      45   \n",
       "4     9237-HQITU  Female              0      No         No       2   \n",
       "...          ...     ...            ...     ...        ...     ...   \n",
       "7038  6840-RESVB    Male              0     Yes        Yes      24   \n",
       "7039  2234-XADUH  Female              0     Yes        Yes      72   \n",
       "7040  4801-JZAZL  Female              0     Yes        Yes      11   \n",
       "7041  8361-LTMKD    Male              1     Yes         No       4   \n",
       "7042  3186-AJIEK    Male              0      No         No      66   \n",
       "\n",
       "     PhoneService     MultipleLines InternetService OnlineSecurity  ...  \\\n",
       "0              No  No phone service             DSL             No  ...   \n",
       "1             Yes                No             DSL            Yes  ...   \n",
       "2             Yes                No             DSL            Yes  ...   \n",
       "3              No  No phone service             DSL            Yes  ...   \n",
       "4             Yes                No     Fiber optic             No  ...   \n",
       "...           ...               ...             ...            ...  ...   \n",
       "7038          Yes               Yes             DSL            Yes  ...   \n",
       "7039          Yes               Yes     Fiber optic             No  ...   \n",
       "7040           No  No phone service             DSL            Yes  ...   \n",
       "7041          Yes               Yes     Fiber optic             No  ...   \n",
       "7042          Yes                No     Fiber optic            Yes  ...   \n",
       "\n",
       "     DeviceProtection TechSupport StreamingTV StreamingMovies        Contract  \\\n",
       "0                  No          No          No              No  Month-to-month   \n",
       "1                 Yes          No          No              No        One year   \n",
       "2                  No          No          No              No  Month-to-month   \n",
       "3                 Yes         Yes          No              No        One year   \n",
       "4                  No          No          No              No  Month-to-month   \n",
       "...               ...         ...         ...             ...             ...   \n",
       "7038              Yes         Yes         Yes             Yes        One year   \n",
       "7039              Yes          No         Yes             Yes        One year   \n",
       "7040               No          No          No              No  Month-to-month   \n",
       "7041               No          No          No              No  Month-to-month   \n",
       "7042              Yes         Yes         Yes             Yes        Two year   \n",
       "\n",
       "     PaperlessBilling              PaymentMethod MonthlyCharges  TotalCharges  \\\n",
       "0                 Yes           Electronic check          29.85         29.85   \n",
       "1                  No               Mailed check          56.95        1889.5   \n",
       "2                 Yes               Mailed check          53.85        108.15   \n",
       "3                  No  Bank transfer (automatic)          42.30       1840.75   \n",
       "4                 Yes           Electronic check          70.70        151.65   \n",
       "...               ...                        ...            ...           ...   \n",
       "7038              Yes               Mailed check          84.80        1990.5   \n",
       "7039              Yes    Credit card (automatic)         103.20        7362.9   \n",
       "7040              Yes           Electronic check          29.60        346.45   \n",
       "7041              Yes               Mailed check          74.40         306.6   \n",
       "7042              Yes  Bank transfer (automatic)         105.65        6844.5   \n",
       "\n",
       "     Churn  \n",
       "0       No  \n",
       "1       No  \n",
       "2      Yes  \n",
       "3       No  \n",
       "4      Yes  \n",
       "...    ...  \n",
       "7038    No  \n",
       "7039    No  \n",
       "7040    No  \n",
       "7041   Yes  \n",
       "7042    No  \n",
       "\n",
       "[7043 rows x 21 columns]"
      ]
     },
     "execution_count": 2,
     "metadata": {},
     "output_type": "execute_result"
    }
   ],
   "source": [
    "df = pd.read_csv('Dataset/WA_Fn-UseC_-Telco-Customer-Churn.csv')\n",
    "df"
   ]
  },
  {
   "cell_type": "markdown",
   "id": "23dc2dfa",
   "metadata": {},
   "source": [
    "### Separate 20% of the data for testing\n",
    "For model evaluation on totally unseen data"
   ]
  },
  {
   "cell_type": "code",
   "execution_count": 3,
   "id": "5337e426",
   "metadata": {
    "scrolled": true
   },
   "outputs": [
    {
     "data": {
      "text/html": [
       "<div>\n",
       "<style scoped>\n",
       "    .dataframe tbody tr th:only-of-type {\n",
       "        vertical-align: middle;\n",
       "    }\n",
       "\n",
       "    .dataframe tbody tr th {\n",
       "        vertical-align: top;\n",
       "    }\n",
       "\n",
       "    .dataframe thead th {\n",
       "        text-align: right;\n",
       "    }\n",
       "</style>\n",
       "<table border=\"1\" class=\"dataframe\">\n",
       "  <thead>\n",
       "    <tr style=\"text-align: right;\">\n",
       "      <th></th>\n",
       "      <th>customerID</th>\n",
       "      <th>gender</th>\n",
       "      <th>SeniorCitizen</th>\n",
       "      <th>Partner</th>\n",
       "      <th>Dependents</th>\n",
       "      <th>tenure</th>\n",
       "      <th>PhoneService</th>\n",
       "      <th>MultipleLines</th>\n",
       "      <th>InternetService</th>\n",
       "      <th>OnlineSecurity</th>\n",
       "      <th>...</th>\n",
       "      <th>DeviceProtection</th>\n",
       "      <th>TechSupport</th>\n",
       "      <th>StreamingTV</th>\n",
       "      <th>StreamingMovies</th>\n",
       "      <th>Contract</th>\n",
       "      <th>PaperlessBilling</th>\n",
       "      <th>PaymentMethod</th>\n",
       "      <th>MonthlyCharges</th>\n",
       "      <th>TotalCharges</th>\n",
       "      <th>Churn</th>\n",
       "    </tr>\n",
       "  </thead>\n",
       "  <tbody>\n",
       "    <tr>\n",
       "      <th>0</th>\n",
       "      <td>4950-BDEUX</td>\n",
       "      <td>Male</td>\n",
       "      <td>0</td>\n",
       "      <td>No</td>\n",
       "      <td>No</td>\n",
       "      <td>35</td>\n",
       "      <td>No</td>\n",
       "      <td>No phone service</td>\n",
       "      <td>DSL</td>\n",
       "      <td>No</td>\n",
       "      <td>...</td>\n",
       "      <td>Yes</td>\n",
       "      <td>No</td>\n",
       "      <td>Yes</td>\n",
       "      <td>Yes</td>\n",
       "      <td>Month-to-month</td>\n",
       "      <td>No</td>\n",
       "      <td>Electronic check</td>\n",
       "      <td>49.20</td>\n",
       "      <td>1701.65</td>\n",
       "      <td>No</td>\n",
       "    </tr>\n",
       "    <tr>\n",
       "      <th>1</th>\n",
       "      <td>7993-NQLJE</td>\n",
       "      <td>Male</td>\n",
       "      <td>0</td>\n",
       "      <td>Yes</td>\n",
       "      <td>Yes</td>\n",
       "      <td>15</td>\n",
       "      <td>Yes</td>\n",
       "      <td>No</td>\n",
       "      <td>Fiber optic</td>\n",
       "      <td>Yes</td>\n",
       "      <td>...</td>\n",
       "      <td>No</td>\n",
       "      <td>No</td>\n",
       "      <td>No</td>\n",
       "      <td>No</td>\n",
       "      <td>Month-to-month</td>\n",
       "      <td>No</td>\n",
       "      <td>Mailed check</td>\n",
       "      <td>75.10</td>\n",
       "      <td>1151.55</td>\n",
       "      <td>No</td>\n",
       "    </tr>\n",
       "    <tr>\n",
       "      <th>2</th>\n",
       "      <td>7321-ZNSLA</td>\n",
       "      <td>Male</td>\n",
       "      <td>0</td>\n",
       "      <td>Yes</td>\n",
       "      <td>Yes</td>\n",
       "      <td>13</td>\n",
       "      <td>No</td>\n",
       "      <td>No phone service</td>\n",
       "      <td>DSL</td>\n",
       "      <td>Yes</td>\n",
       "      <td>...</td>\n",
       "      <td>No</td>\n",
       "      <td>Yes</td>\n",
       "      <td>No</td>\n",
       "      <td>No</td>\n",
       "      <td>Two year</td>\n",
       "      <td>No</td>\n",
       "      <td>Mailed check</td>\n",
       "      <td>40.55</td>\n",
       "      <td>590.35</td>\n",
       "      <td>No</td>\n",
       "    </tr>\n",
       "    <tr>\n",
       "      <th>3</th>\n",
       "      <td>4922-CVPDX</td>\n",
       "      <td>Female</td>\n",
       "      <td>0</td>\n",
       "      <td>Yes</td>\n",
       "      <td>No</td>\n",
       "      <td>26</td>\n",
       "      <td>Yes</td>\n",
       "      <td>No</td>\n",
       "      <td>DSL</td>\n",
       "      <td>No</td>\n",
       "      <td>...</td>\n",
       "      <td>Yes</td>\n",
       "      <td>No</td>\n",
       "      <td>Yes</td>\n",
       "      <td>Yes</td>\n",
       "      <td>Two year</td>\n",
       "      <td>Yes</td>\n",
       "      <td>Credit card (automatic)</td>\n",
       "      <td>73.50</td>\n",
       "      <td>1905.7</td>\n",
       "      <td>No</td>\n",
       "    </tr>\n",
       "    <tr>\n",
       "      <th>4</th>\n",
       "      <td>2903-YYTBW</td>\n",
       "      <td>Male</td>\n",
       "      <td>0</td>\n",
       "      <td>Yes</td>\n",
       "      <td>Yes</td>\n",
       "      <td>1</td>\n",
       "      <td>Yes</td>\n",
       "      <td>No</td>\n",
       "      <td>DSL</td>\n",
       "      <td>No</td>\n",
       "      <td>...</td>\n",
       "      <td>No</td>\n",
       "      <td>No</td>\n",
       "      <td>No</td>\n",
       "      <td>No</td>\n",
       "      <td>Month-to-month</td>\n",
       "      <td>No</td>\n",
       "      <td>Electronic check</td>\n",
       "      <td>44.55</td>\n",
       "      <td>44.55</td>\n",
       "      <td>No</td>\n",
       "    </tr>\n",
       "    <tr>\n",
       "      <th>...</th>\n",
       "      <td>...</td>\n",
       "      <td>...</td>\n",
       "      <td>...</td>\n",
       "      <td>...</td>\n",
       "      <td>...</td>\n",
       "      <td>...</td>\n",
       "      <td>...</td>\n",
       "      <td>...</td>\n",
       "      <td>...</td>\n",
       "      <td>...</td>\n",
       "      <td>...</td>\n",
       "      <td>...</td>\n",
       "      <td>...</td>\n",
       "      <td>...</td>\n",
       "      <td>...</td>\n",
       "      <td>...</td>\n",
       "      <td>...</td>\n",
       "      <td>...</td>\n",
       "      <td>...</td>\n",
       "      <td>...</td>\n",
       "      <td>...</td>\n",
       "    </tr>\n",
       "    <tr>\n",
       "      <th>5629</th>\n",
       "      <td>6308-CQRBU</td>\n",
       "      <td>Female</td>\n",
       "      <td>0</td>\n",
       "      <td>Yes</td>\n",
       "      <td>No</td>\n",
       "      <td>71</td>\n",
       "      <td>Yes</td>\n",
       "      <td>Yes</td>\n",
       "      <td>Fiber optic</td>\n",
       "      <td>No</td>\n",
       "      <td>...</td>\n",
       "      <td>Yes</td>\n",
       "      <td>Yes</td>\n",
       "      <td>Yes</td>\n",
       "      <td>Yes</td>\n",
       "      <td>Two year</td>\n",
       "      <td>No</td>\n",
       "      <td>Electronic check</td>\n",
       "      <td>109.25</td>\n",
       "      <td>7707.7</td>\n",
       "      <td>No</td>\n",
       "    </tr>\n",
       "    <tr>\n",
       "      <th>5630</th>\n",
       "      <td>2842-JTCCU</td>\n",
       "      <td>Male</td>\n",
       "      <td>0</td>\n",
       "      <td>No</td>\n",
       "      <td>No</td>\n",
       "      <td>2</td>\n",
       "      <td>Yes</td>\n",
       "      <td>No</td>\n",
       "      <td>DSL</td>\n",
       "      <td>No</td>\n",
       "      <td>...</td>\n",
       "      <td>No</td>\n",
       "      <td>No</td>\n",
       "      <td>No</td>\n",
       "      <td>No</td>\n",
       "      <td>Month-to-month</td>\n",
       "      <td>No</td>\n",
       "      <td>Bank transfer (automatic)</td>\n",
       "      <td>46.05</td>\n",
       "      <td>80.35</td>\n",
       "      <td>Yes</td>\n",
       "    </tr>\n",
       "    <tr>\n",
       "      <th>5631</th>\n",
       "      <td>6402-ZFPPI</td>\n",
       "      <td>Female</td>\n",
       "      <td>1</td>\n",
       "      <td>No</td>\n",
       "      <td>No</td>\n",
       "      <td>25</td>\n",
       "      <td>Yes</td>\n",
       "      <td>Yes</td>\n",
       "      <td>Fiber optic</td>\n",
       "      <td>Yes</td>\n",
       "      <td>...</td>\n",
       "      <td>No</td>\n",
       "      <td>No</td>\n",
       "      <td>Yes</td>\n",
       "      <td>Yes</td>\n",
       "      <td>Month-to-month</td>\n",
       "      <td>Yes</td>\n",
       "      <td>Mailed check</td>\n",
       "      <td>102.80</td>\n",
       "      <td>2660.2</td>\n",
       "      <td>Yes</td>\n",
       "    </tr>\n",
       "    <tr>\n",
       "      <th>5632</th>\n",
       "      <td>3594-BDSOA</td>\n",
       "      <td>Female</td>\n",
       "      <td>0</td>\n",
       "      <td>Yes</td>\n",
       "      <td>No</td>\n",
       "      <td>24</td>\n",
       "      <td>Yes</td>\n",
       "      <td>No</td>\n",
       "      <td>No</td>\n",
       "      <td>No internet service</td>\n",
       "      <td>...</td>\n",
       "      <td>No internet service</td>\n",
       "      <td>No internet service</td>\n",
       "      <td>No internet service</td>\n",
       "      <td>No internet service</td>\n",
       "      <td>One year</td>\n",
       "      <td>No</td>\n",
       "      <td>Credit card (automatic)</td>\n",
       "      <td>20.40</td>\n",
       "      <td>482.8</td>\n",
       "      <td>No</td>\n",
       "    </tr>\n",
       "    <tr>\n",
       "      <th>5633</th>\n",
       "      <td>6490-FGZAT</td>\n",
       "      <td>Male</td>\n",
       "      <td>0</td>\n",
       "      <td>No</td>\n",
       "      <td>No</td>\n",
       "      <td>6</td>\n",
       "      <td>Yes</td>\n",
       "      <td>No</td>\n",
       "      <td>No</td>\n",
       "      <td>No internet service</td>\n",
       "      <td>...</td>\n",
       "      <td>No internet service</td>\n",
       "      <td>No internet service</td>\n",
       "      <td>No internet service</td>\n",
       "      <td>No internet service</td>\n",
       "      <td>Month-to-month</td>\n",
       "      <td>No</td>\n",
       "      <td>Mailed check</td>\n",
       "      <td>20.65</td>\n",
       "      <td>109.3</td>\n",
       "      <td>No</td>\n",
       "    </tr>\n",
       "  </tbody>\n",
       "</table>\n",
       "<p>5634 rows × 21 columns</p>\n",
       "</div>"
      ],
      "text/plain": [
       "      customerID  gender  SeniorCitizen Partner Dependents  tenure  \\\n",
       "0     4950-BDEUX    Male              0      No         No      35   \n",
       "1     7993-NQLJE    Male              0     Yes        Yes      15   \n",
       "2     7321-ZNSLA    Male              0     Yes        Yes      13   \n",
       "3     4922-CVPDX  Female              0     Yes         No      26   \n",
       "4     2903-YYTBW    Male              0     Yes        Yes       1   \n",
       "...          ...     ...            ...     ...        ...     ...   \n",
       "5629  6308-CQRBU  Female              0     Yes         No      71   \n",
       "5630  2842-JTCCU    Male              0      No         No       2   \n",
       "5631  6402-ZFPPI  Female              1      No         No      25   \n",
       "5632  3594-BDSOA  Female              0     Yes         No      24   \n",
       "5633  6490-FGZAT    Male              0      No         No       6   \n",
       "\n",
       "     PhoneService     MultipleLines InternetService       OnlineSecurity  ...  \\\n",
       "0              No  No phone service             DSL                   No  ...   \n",
       "1             Yes                No     Fiber optic                  Yes  ...   \n",
       "2              No  No phone service             DSL                  Yes  ...   \n",
       "3             Yes                No             DSL                   No  ...   \n",
       "4             Yes                No             DSL                   No  ...   \n",
       "...           ...               ...             ...                  ...  ...   \n",
       "5629          Yes               Yes     Fiber optic                   No  ...   \n",
       "5630          Yes                No             DSL                   No  ...   \n",
       "5631          Yes               Yes     Fiber optic                  Yes  ...   \n",
       "5632          Yes                No              No  No internet service  ...   \n",
       "5633          Yes                No              No  No internet service  ...   \n",
       "\n",
       "         DeviceProtection          TechSupport          StreamingTV  \\\n",
       "0                     Yes                   No                  Yes   \n",
       "1                      No                   No                   No   \n",
       "2                      No                  Yes                   No   \n",
       "3                     Yes                   No                  Yes   \n",
       "4                      No                   No                   No   \n",
       "...                   ...                  ...                  ...   \n",
       "5629                  Yes                  Yes                  Yes   \n",
       "5630                   No                   No                   No   \n",
       "5631                   No                   No                  Yes   \n",
       "5632  No internet service  No internet service  No internet service   \n",
       "5633  No internet service  No internet service  No internet service   \n",
       "\n",
       "          StreamingMovies        Contract PaperlessBilling  \\\n",
       "0                     Yes  Month-to-month               No   \n",
       "1                      No  Month-to-month               No   \n",
       "2                      No        Two year               No   \n",
       "3                     Yes        Two year              Yes   \n",
       "4                      No  Month-to-month               No   \n",
       "...                   ...             ...              ...   \n",
       "5629                  Yes        Two year               No   \n",
       "5630                   No  Month-to-month               No   \n",
       "5631                  Yes  Month-to-month              Yes   \n",
       "5632  No internet service        One year               No   \n",
       "5633  No internet service  Month-to-month               No   \n",
       "\n",
       "                  PaymentMethod MonthlyCharges  TotalCharges Churn  \n",
       "0              Electronic check          49.20       1701.65    No  \n",
       "1                  Mailed check          75.10       1151.55    No  \n",
       "2                  Mailed check          40.55        590.35    No  \n",
       "3       Credit card (automatic)          73.50        1905.7    No  \n",
       "4              Electronic check          44.55         44.55    No  \n",
       "...                         ...            ...           ...   ...  \n",
       "5629           Electronic check         109.25        7707.7    No  \n",
       "5630  Bank transfer (automatic)          46.05         80.35   Yes  \n",
       "5631               Mailed check         102.80        2660.2   Yes  \n",
       "5632    Credit card (automatic)          20.40         482.8    No  \n",
       "5633               Mailed check          20.65         109.3    No  \n",
       "\n",
       "[5634 rows x 21 columns]"
      ]
     },
     "execution_count": 3,
     "metadata": {},
     "output_type": "execute_result"
    }
   ],
   "source": [
    "train_df, test_df = train_test_split(df, test_size=0.2, random_state=42, stratify=df['Churn'])\n",
    "train_df.reset_index(drop=True, inplace=True)\n",
    "test_df.reset_index(drop=True, inplace=True)\n",
    "train_df"
   ]
  },
  {
   "cell_type": "code",
   "execution_count": 4,
   "id": "fd3f5ffa",
   "metadata": {
    "scrolled": true
   },
   "outputs": [
    {
     "name": "stdout",
     "output_type": "stream",
     "text": [
      "<class 'pandas.core.frame.DataFrame'>\n",
      "RangeIndex: 5634 entries, 0 to 5633\n",
      "Data columns (total 21 columns):\n",
      " #   Column            Non-Null Count  Dtype  \n",
      "---  ------            --------------  -----  \n",
      " 0   customerID        5634 non-null   object \n",
      " 1   gender            5634 non-null   object \n",
      " 2   SeniorCitizen     5634 non-null   int64  \n",
      " 3   Partner           5634 non-null   object \n",
      " 4   Dependents        5634 non-null   object \n",
      " 5   tenure            5634 non-null   int64  \n",
      " 6   PhoneService      5634 non-null   object \n",
      " 7   MultipleLines     5634 non-null   object \n",
      " 8   InternetService   5634 non-null   object \n",
      " 9   OnlineSecurity    5634 non-null   object \n",
      " 10  OnlineBackup      5634 non-null   object \n",
      " 11  DeviceProtection  5634 non-null   object \n",
      " 12  TechSupport       5634 non-null   object \n",
      " 13  StreamingTV       5634 non-null   object \n",
      " 14  StreamingMovies   5634 non-null   object \n",
      " 15  Contract          5634 non-null   object \n",
      " 16  PaperlessBilling  5634 non-null   object \n",
      " 17  PaymentMethod     5634 non-null   object \n",
      " 18  MonthlyCharges    5634 non-null   float64\n",
      " 19  TotalCharges      5634 non-null   object \n",
      " 20  Churn             5634 non-null   object \n",
      "dtypes: float64(1), int64(2), object(18)\n",
      "memory usage: 924.5+ KB\n"
     ]
    },
    {
     "data": {
      "text/plain": [
       "None"
      ]
     },
     "metadata": {},
     "output_type": "display_data"
    }
   ],
   "source": [
    "display(train_df.info())"
   ]
  },
  {
   "cell_type": "markdown",
   "id": "6bba8338",
   "metadata": {},
   "source": [
    "- We can notice that 'TotalCharges' column is of wrong type"
   ]
  },
  {
   "cell_type": "markdown",
   "id": "5300b29c",
   "metadata": {},
   "source": [
    "## Data Cleaning"
   ]
  },
  {
   "cell_type": "markdown",
   "id": "3689f323",
   "metadata": {},
   "source": [
    "1. **Converting 'TotalCharges' column to numeric**"
   ]
  },
  {
   "cell_type": "code",
   "execution_count": 5,
   "id": "0f2321de",
   "metadata": {},
   "outputs": [],
   "source": [
    "train_df['TotalCharges'] = pd.to_numeric(train_df['TotalCharges'], errors='coerce')"
   ]
  },
  {
   "cell_type": "markdown",
   "id": "0f2da861",
   "metadata": {},
   "source": [
    "2. **Check and handling missing values**"
   ]
  },
  {
   "cell_type": "code",
   "execution_count": 6,
   "id": "a1acfeff",
   "metadata": {
    "scrolled": true
   },
   "outputs": [
    {
     "data": {
      "text/plain": [
       "customerID          0\n",
       "gender              0\n",
       "SeniorCitizen       0\n",
       "Partner             0\n",
       "Dependents          0\n",
       "tenure              0\n",
       "PhoneService        0\n",
       "MultipleLines       0\n",
       "InternetService     0\n",
       "OnlineSecurity      0\n",
       "OnlineBackup        0\n",
       "DeviceProtection    0\n",
       "TechSupport         0\n",
       "StreamingTV         0\n",
       "StreamingMovies     0\n",
       "Contract            0\n",
       "PaperlessBilling    0\n",
       "PaymentMethod       0\n",
       "MonthlyCharges      0\n",
       "TotalCharges        8\n",
       "Churn               0\n",
       "dtype: int64"
      ]
     },
     "execution_count": 6,
     "metadata": {},
     "output_type": "execute_result"
    }
   ],
   "source": [
    "train_df.isna().sum()"
   ]
  },
  {
   "cell_type": "markdown",
   "id": "71d7e2de",
   "metadata": {},
   "source": [
    "8 Null values in 'TotalCharges' column"
   ]
  },
  {
   "cell_type": "markdown",
   "id": "fccd03a3",
   "metadata": {},
   "source": [
    "- Fill with Mean value"
   ]
  },
  {
   "cell_type": "code",
   "execution_count": 7,
   "id": "616c4d7c",
   "metadata": {},
   "outputs": [],
   "source": [
    "train_df['TotalCharges'].fillna((train_df['TotalCharges'].mean()), inplace=True)"
   ]
  },
  {
   "cell_type": "markdown",
   "id": "879a2a23",
   "metadata": {},
   "source": [
    "3. **Check for duplicates**"
   ]
  },
  {
   "cell_type": "code",
   "execution_count": 8,
   "id": "f381699d",
   "metadata": {},
   "outputs": [
    {
     "data": {
      "text/plain": [
       "0"
      ]
     },
     "execution_count": 8,
     "metadata": {},
     "output_type": "execute_result"
    }
   ],
   "source": [
    "train_df.duplicated().sum()"
   ]
  },
  {
   "cell_type": "markdown",
   "id": "eeb8b8d9",
   "metadata": {},
   "source": [
    "No duplicates were found"
   ]
  },
  {
   "cell_type": "markdown",
   "id": "4a3e18c4",
   "metadata": {},
   "source": [
    "## Exploratory Data Analysis"
   ]
  },
  {
   "cell_type": "markdown",
   "id": "83934803",
   "metadata": {},
   "source": [
    "**Distribution of target column:**"
   ]
  },
  {
   "cell_type": "code",
   "execution_count": 9,
   "id": "93772d42",
   "metadata": {},
   "outputs": [
    {
     "name": "stdout",
     "output_type": "stream",
     "text": [
      "No     4139\n",
      "Yes    1495\n",
      "Name: Churn, dtype: int64\n"
     ]
    },
    {
     "data": {
      "image/png": "[encoded data removed]",
      "text/plain": [
       "<Figure size 432x288 with 1 Axes>"
      ]
     },
     "metadata": {},
     "output_type": "display_data"
    }
   ],
   "source": [
    "print(train_df['Churn'].value_counts())\n",
    "_ = sns.countplot(x='Churn', data=train_df, palette='crest')"
   ]
  },
  {
   "cell_type": "markdown",
   "id": "73dd2b36",
   "metadata": {},
   "source": [
    "- The distribution of the binary classes shows a slight data imbalance that needs attention"
   ]
  },
  {
   "cell_type": "markdown",
   "id": "da1075c6",
   "metadata": {},
   "source": [
    "**Categorical features count plot**"
   ]
  },
  {
   "cell_type": "code",
   "execution_count": 10,
   "id": "2809cfa2",
   "metadata": {
    "scrolled": true
   },
   "outputs": [
    {
     "data": {
      "image/png": "[encoded data removed]",
      "text/plain": [
       "<Figure size 1080x1080 with 15 Axes>"
      ]
     },
     "metadata": {},
     "output_type": "display_data"
    },
    {
     "data": {
      "image/png": "[encoded data removed]",
      "text/plain": [
       "<Figure size 792x216 with 1 Axes>"
      ]
     },
     "metadata": {},
     "output_type": "display_data"
    },
    {
     "data": {
      "text/plain": [
       "<Figure size 432x288 with 0 Axes>"
      ]
     },
     "metadata": {},
     "output_type": "display_data"
    }
   ],
   "source": [
    "cat_cols = ['gender','SeniorCitizen','Partner','Dependents','PhoneService','MultipleLines','InternetService',\n",
    "              'OnlineSecurity', 'OnlineBackup', 'DeviceProtection', 'TechSupport', 'StreamingTV', 'StreamingMovies', \n",
    "              'Contract', 'PaperlessBilling']\n",
    "\n",
    "plt.figure(figsize=(15, 15))\n",
    "for n, variable in enumerate(cat_cols):\n",
    "    ax = plt.subplot(5, 4, n + 1)\n",
    "    g=sns.countplot(data=train_df, x=train_df[variable], ax=ax, palette='crest')\n",
    "plt.show() \n",
    "plt.figure(figsize=(11,3))\n",
    "_ = sns.countplot(x= 'PaymentMethod', hue='Churn', data=train_df, palette='crest')\n",
    "plt.show() \n",
    "plt.tight_layout()"
   ]
  },
  {
   "cell_type": "markdown",
   "id": "17837814",
   "metadata": {},
   "source": [
    "- The gender count plot shows an equally distribution of males and females in the dataset\n",
    "- Some features have 'No' and 'No Internet Service' or 'No Phone Service' as a separate category which don't give new info and could all be considered as 'No' label"
   ]
  },
  {
   "cell_type": "markdown",
   "id": "2b726537",
   "metadata": {},
   "source": [
    "**Histogram & Boxplots of continous features**"
   ]
  },
  {
   "cell_type": "code",
   "execution_count": 11,
   "id": "64ff0ec9",
   "metadata": {
    "scrolled": true
   },
   "outputs": [
    {
     "data": {
      "image/png": "[encoded data removed]",
      "text/plain": [
       "<Figure size 720x720 with 6 Axes>"
      ]
     },
     "metadata": {},
     "output_type": "display_data"
    }
   ],
   "source": [
    "plt.figure(figsize=(10,10))\n",
    "plt.subplot(3, 2, 1)\n",
    "_ = sns.boxplot(y= train_df['tenure'])\n",
    "plt.subplot(3, 2, 2)\n",
    "_ = sns.histplot(x='tenure', data=train_df)\n",
    "\n",
    "plt.subplot(3, 2, 3)\n",
    "_ = sns.boxplot(y= train_df['MonthlyCharges'])\n",
    "plt.subplot(3, 2, 4)\n",
    "_ = sns.histplot(x='MonthlyCharges', data=train_df)\n",
    "\n",
    "plt.subplot(3, 2, 5)\n",
    "_ = sns.boxplot(y= train_df['TotalCharges'])\n",
    "plt.subplot(3, 2, 6)\n",
    "_ = sns.histplot(x='TotalCharges', data=train_df)"
   ]
  },
  {
   "cell_type": "markdown",
   "id": "60a23975",
   "metadata": {},
   "source": [
    "- Boxplots show that there are No outliers in the continuous variables\n",
    "- Histograms show right skewness in the 'TotalCharges' feature"
   ]
  },
  {
   "cell_type": "markdown",
   "id": "b925c601",
   "metadata": {},
   "source": [
    "**Scatter plot of Monthly Charges versus Total Charges**"
   ]
  },
  {
   "cell_type": "code",
   "execution_count": 12,
   "id": "e56081be",
   "metadata": {},
   "outputs": [
    {
     "data": {
      "text/plain": [
       "<matplotlib.axes._subplots.AxesSubplot at 0x1eb82f31f88>"
      ]
     },
     "execution_count": 12,
     "metadata": {},
     "output_type": "execute_result"
    },
    {
     "data": {
      "image/png": "[encoded data removed]",
      "text/plain": [
       "<Figure size 720x288 with 1 Axes>"
      ]
     },
     "metadata": {},
     "output_type": "display_data"
    }
   ],
   "source": [
    "plt.figure(figsize=(10,4))\n",
    "sns.scatterplot(data=train_df, x='MonthlyCharges', y='TotalCharges', hue='Churn')"
   ]
  },
  {
   "cell_type": "markdown",
   "id": "9a9f009c",
   "metadata": {},
   "source": [
    "- This implies a positive correlation between the monthly charges, and total charges.\n",
    "- The churn rate increases with the increase in monthly charges."
   ]
  },
  {
   "cell_type": "markdown",
   "id": "a0aeb25d",
   "metadata": {},
   "source": [
    "**Replacing 'No internet service' and 'No phone service' with 'No'**"
   ]
  },
  {
   "cell_type": "code",
   "execution_count": 13,
   "id": "ce79481e",
   "metadata": {},
   "outputs": [],
   "source": [
    "train_df.replace(['No internet service','No phone service'], 'No', inplace=True)"
   ]
  },
  {
   "cell_type": "markdown",
   "id": "833c7c48",
   "metadata": {},
   "source": [
    "## Encoding categorical features\n",
    "- One-Hot encoding all categorical features\n",
    "- Encode by mapping target feature"
   ]
  },
  {
   "cell_type": "code",
   "execution_count": 14,
   "id": "bfbd5e97",
   "metadata": {},
   "outputs": [],
   "source": [
    "# One-hot encoding\n",
    "cat_cols = ['gender', 'InternetService','PaymentMethod','Partner', 'Dependents', 'PhoneService', 'PaperlessBilling', 'MultipleLines', 'OnlineSecurity', \n",
    "          'OnlineBackup', 'DeviceProtection', 'TechSupport', 'StreamingTV', 'StreamingMovies']\n",
    "\n",
    "train_df = pd.concat([train_df, pd.get_dummies(train_df[cat_cols])], axis='columns')\n",
    "train_df = train_df.drop(columns=cat_cols)\n",
    "\n",
    "# mapping \n",
    "train_df['Churn'] = np.where(train_df['Churn'] == 'Yes', 1, 0)  # yes=1, No=0"
   ]
  },
  {
   "cell_type": "markdown",
   "id": "bcfb6a69",
   "metadata": {},
   "source": [
    "## Feature engineering"
   ]
  },
  {
   "cell_type": "markdown",
   "id": "62833832",
   "metadata": {},
   "source": [
    "1. **Binning 'tenure' feature into 6 ranges**"
   ]
  },
  {
   "cell_type": "code",
   "execution_count": 15,
   "id": "25b240c1",
   "metadata": {},
   "outputs": [],
   "source": [
    "condition = [((train_df.tenure >= 0)&(train_df.tenure <= 12)), ((train_df.tenure > 12)&(train_df.tenure <= 24)), \n",
    "             ((train_df.tenure > 24)&(train_df.tenure <= 36)),((train_df.tenure > 36)&(train_df.tenure <= 48)),\n",
    "             ((train_df.tenure > 48)&(train_df.tenure <= 60)), (train_df.tenure > 60)]\n",
    "\n",
    "#choice = ['0-1year','1-2years', '2-3years', '3-4years','4-5years','more than 5 years']\n",
    "choice = [0,1, 2, 3, 4, 5]\n",
    "train_df['tenure_range'] = np.select(condition, choice)"
   ]
  },
  {
   "cell_type": "code",
   "execution_count": 16,
   "id": "d251729e",
   "metadata": {},
   "outputs": [
    {
     "data": {
      "image/png": "[encoded data removed]",
      "text/plain": [
       "<Figure size 432x288 with 1 Axes>"
      ]
     },
     "metadata": {},
     "output_type": "display_data"
    }
   ],
   "source": [
    "_ = sns.countplot(x= 'tenure_range', hue='Churn', data=train_df, palette='crest', order=choice)\n",
    "plt.tight_layout()"
   ]
  },
  {
   "cell_type": "markdown",
   "id": "6c3e88c6",
   "metadata": {},
   "source": [
    "- We can notice that customers who stay longer are more loyal to the company and very small number who leave after staying more than 4 years. On the other hand, customers churn rate is very high during the first year."
   ]
  },
  {
   "cell_type": "markdown",
   "id": "40d0a0c7",
   "metadata": {},
   "source": [
    "## Feature Scaling"
   ]
  },
  {
   "cell_type": "markdown",
   "id": "a5d39225",
   "metadata": {},
   "source": [
    "- Log transform"
   ]
  },
  {
   "cell_type": "code",
   "execution_count": 17,
   "id": "79319507",
   "metadata": {},
   "outputs": [],
   "source": [
    "train_df['MonthlyCharges']=np.log1p(train_df['MonthlyCharges'])\n",
    "train_df['TotalCharges']=np.log1p(train_df['TotalCharges'])"
   ]
  },
  {
   "cell_type": "code",
   "execution_count": 18,
   "id": "1d76db14",
   "metadata": {},
   "outputs": [
    {
     "data": {
      "image/png": "[encoded data removed]",
      "text/plain": [
       "<Figure size 1080x144 with 2 Axes>"
      ]
     },
     "metadata": {},
     "output_type": "display_data"
    }
   ],
   "source": [
    "plt.figure(figsize=(15,2))\n",
    "plt.subplot(1, 3, 2)\n",
    "_ = sns.histplot(x='MonthlyCharges', data=train_df)\n",
    "\n",
    "plt.subplot(1, 3, 3)\n",
    "_ = sns.histplot(x='TotalCharges', data=train_df)"
   ]
  },
  {
   "cell_type": "markdown",
   "id": "9a216f95",
   "metadata": {},
   "source": [
    "## Handling data imbalance"
   ]
  },
  {
   "cell_type": "code",
   "execution_count": 19,
   "id": "5a73973a",
   "metadata": {},
   "outputs": [],
   "source": [
    "X_train = train_df.drop(columns=['customerID','Churn'])\n",
    "y_train = train_df['Churn']"
   ]
  },
  {
   "cell_type": "code",
   "execution_count": 20,
   "id": "15e7c34e",
   "metadata": {},
   "outputs": [],
   "source": [
    "sm = SMOTE(random_state = 0, sampling_strategy = 'minority', k_neighbors= 5)\n",
    "X_train, y_train = sm.fit_resample(X_train, y_train.ravel())"
   ]
  },
  {
   "cell_type": "code",
   "execution_count": 21,
   "id": "2434ca3c",
   "metadata": {},
   "outputs": [
    {
     "data": {
      "image/png": "[encoded data removed]",
      "text/plain": [
       "<Figure size 432x288 with 1 Axes>"
      ]
     },
     "metadata": {},
     "output_type": "display_data"
    }
   ],
   "source": [
    "_ = sns.countplot(x=y_train, palette='crest')"
   ]
  },
  {
   "cell_type": "markdown",
   "id": "2f22cb9d",
   "metadata": {},
   "source": [
    "### Preprocessing function on Test set\n",
    "A function is created to apply all previous preprocessing steps on the test set"
   ]
  },
  {
   "cell_type": "code",
   "execution_count": 22,
   "id": "1cf1d328",
   "metadata": {},
   "outputs": [],
   "source": [
    "def test_prep (test_df):\n",
    "    ### Data cleaning\n",
    "    #Converting 'TotalCharges' column to numeric\n",
    "    test_df['TotalCharges'] = pd.to_numeric(test_df['TotalCharges'], errors='coerce')\n",
    "    \n",
    "    #Replacing 'No internet service' and 'No phone service' with 'No'\n",
    "    test_df.replace(['No internet service','No phone service'], 'No', inplace=True)\n",
    "    \n",
    "    # if there is null values in the continous features --> fill with the mean of columns in training set (mapping)\n",
    "    for col in test_df.columns:\n",
    "        if test_df[col].isna().sum() > 0:\n",
    "            test_df[col] = test_df[col].fillna(train_df[col].map(np.mean))\n",
    "            \n",
    "    ### Categorical features encoding \n",
    "    test_df = pd.concat([test_df, pd.get_dummies(test_df[cat_cols])], axis='columns')\n",
    "    test_df = test_df.drop(columns=cat_cols)\n",
    "    \n",
    "    test_df['Churn'] = np.where(test_df['Churn'] == 'Yes', 1, 0)\n",
    "            \n",
    "    ### Feature engineering\n",
    "    #Binning 'tenure' feature into 6 ranges\n",
    "    condition = [((test_df.tenure >= 0)&(test_df.tenure <= 12)), ((test_df.tenure > 12)&(test_df.tenure <= 24)), \n",
    "                 ((test_df.tenure > 24)&(test_df.tenure <= 36)),((test_df.tenure > 36)&(test_df.tenure <= 48)),\n",
    "                 ((test_df.tenure > 48)&(test_df.tenure <= 60)), (test_df.tenure > 60)]\n",
    "    #choice = ['0-1year','1-2years', '2-3years', '3-4years','4-5years','more than 5 years']\n",
    "    choice = [0,1, 2, 3, 4, 5]\n",
    "    test_df['tenure_range'] = np.select(condition, choice)\n",
    "    \n",
    "    ### Feature Scaling\n",
    "    test_df['MonthlyCharges']=np.log1p(test_df['MonthlyCharges'])\n",
    "    test_df['TotalCharges']=np.log1p(test_df['TotalCharges'])\n",
    "    \n",
    "    return test_df"
   ]
  },
  {
   "cell_type": "code",
   "execution_count": 23,
   "id": "7c77b00b",
   "metadata": {
    "scrolled": true
   },
   "outputs": [
    {
     "data": {
      "text/html": [
       "<div>\n",
       "<style scoped>\n",
       "    .dataframe tbody tr th:only-of-type {\n",
       "        vertical-align: middle;\n",
       "    }\n",
       "\n",
       "    .dataframe tbody tr th {\n",
       "        vertical-align: top;\n",
       "    }\n",
       "\n",
       "    .dataframe thead th {\n",
       "        text-align: right;\n",
       "    }\n",
       "</style>\n",
       "<table border=\"1\" class=\"dataframe\">\n",
       "  <thead>\n",
       "    <tr style=\"text-align: right;\">\n",
       "      <th></th>\n",
       "      <th>customerID</th>\n",
       "      <th>SeniorCitizen</th>\n",
       "      <th>tenure</th>\n",
       "      <th>MonthlyCharges</th>\n",
       "      <th>TotalCharges</th>\n",
       "      <th>Churn</th>\n",
       "      <th>gender_Female</th>\n",
       "      <th>gender_Male</th>\n",
       "      <th>InternetService_DSL</th>\n",
       "      <th>InternetService_Fiber optic</th>\n",
       "      <th>...</th>\n",
       "      <th>TechSupport_No</th>\n",
       "      <th>TechSupport_Yes</th>\n",
       "      <th>StreamingTV_No</th>\n",
       "      <th>StreamingTV_Yes</th>\n",
       "      <th>StreamingMovies_No</th>\n",
       "      <th>StreamingMovies_Yes</th>\n",
       "      <th>Contract_Month-to-month</th>\n",
       "      <th>Contract_One year</th>\n",
       "      <th>Contract_Two year</th>\n",
       "      <th>tenure_range</th>\n",
       "    </tr>\n",
       "  </thead>\n",
       "  <tbody>\n",
       "    <tr>\n",
       "      <th>0</th>\n",
       "      <td>4376-KFVRS</td>\n",
       "      <td>0</td>\n",
       "      <td>72</td>\n",
       "      <td>4.745367</td>\n",
       "      <td>9.044191</td>\n",
       "      <td>0</td>\n",
       "      <td>0</td>\n",
       "      <td>1</td>\n",
       "      <td>0</td>\n",
       "      <td>1</td>\n",
       "      <td>...</td>\n",
       "      <td>0</td>\n",
       "      <td>1</td>\n",
       "      <td>0</td>\n",
       "      <td>1</td>\n",
       "      <td>0</td>\n",
       "      <td>1</td>\n",
       "      <td>0</td>\n",
       "      <td>0</td>\n",
       "      <td>1</td>\n",
       "      <td>5</td>\n",
       "    </tr>\n",
       "    <tr>\n",
       "      <th>1</th>\n",
       "      <td>2754-SDJRD</td>\n",
       "      <td>1</td>\n",
       "      <td>8</td>\n",
       "      <td>4.616605</td>\n",
       "      <td>6.812950</td>\n",
       "      <td>0</td>\n",
       "      <td>1</td>\n",
       "      <td>0</td>\n",
       "      <td>0</td>\n",
       "      <td>1</td>\n",
       "      <td>...</td>\n",
       "      <td>0</td>\n",
       "      <td>1</td>\n",
       "      <td>0</td>\n",
       "      <td>1</td>\n",
       "      <td>0</td>\n",
       "      <td>1</td>\n",
       "      <td>1</td>\n",
       "      <td>0</td>\n",
       "      <td>0</td>\n",
       "      <td>0</td>\n",
       "    </tr>\n",
       "    <tr>\n",
       "      <th>2</th>\n",
       "      <td>9917-KWRBE</td>\n",
       "      <td>0</td>\n",
       "      <td>41</td>\n",
       "      <td>4.373868</td>\n",
       "      <td>8.074711</td>\n",
       "      <td>0</td>\n",
       "      <td>1</td>\n",
       "      <td>0</td>\n",
       "      <td>1</td>\n",
       "      <td>0</td>\n",
       "      <td>...</td>\n",
       "      <td>1</td>\n",
       "      <td>0</td>\n",
       "      <td>0</td>\n",
       "      <td>1</td>\n",
       "      <td>1</td>\n",
       "      <td>0</td>\n",
       "      <td>0</td>\n",
       "      <td>1</td>\n",
       "      <td>0</td>\n",
       "      <td>3</td>\n",
       "    </tr>\n",
       "    <tr>\n",
       "      <th>3</th>\n",
       "      <td>0365-GXEZS</td>\n",
       "      <td>0</td>\n",
       "      <td>18</td>\n",
       "      <td>4.371976</td>\n",
       "      <td>7.292848</td>\n",
       "      <td>0</td>\n",
       "      <td>0</td>\n",
       "      <td>1</td>\n",
       "      <td>0</td>\n",
       "      <td>1</td>\n",
       "      <td>...</td>\n",
       "      <td>0</td>\n",
       "      <td>1</td>\n",
       "      <td>1</td>\n",
       "      <td>0</td>\n",
       "      <td>1</td>\n",
       "      <td>0</td>\n",
       "      <td>1</td>\n",
       "      <td>0</td>\n",
       "      <td>0</td>\n",
       "      <td>1</td>\n",
       "    </tr>\n",
       "    <tr>\n",
       "      <th>4</th>\n",
       "      <td>9385-NXKDA</td>\n",
       "      <td>0</td>\n",
       "      <td>72</td>\n",
       "      <td>4.426641</td>\n",
       "      <td>8.686151</td>\n",
       "      <td>0</td>\n",
       "      <td>1</td>\n",
       "      <td>0</td>\n",
       "      <td>1</td>\n",
       "      <td>0</td>\n",
       "      <td>...</td>\n",
       "      <td>1</td>\n",
       "      <td>0</td>\n",
       "      <td>0</td>\n",
       "      <td>1</td>\n",
       "      <td>0</td>\n",
       "      <td>1</td>\n",
       "      <td>0</td>\n",
       "      <td>0</td>\n",
       "      <td>1</td>\n",
       "      <td>5</td>\n",
       "    </tr>\n",
       "    <tr>\n",
       "      <th>...</th>\n",
       "      <td>...</td>\n",
       "      <td>...</td>\n",
       "      <td>...</td>\n",
       "      <td>...</td>\n",
       "      <td>...</td>\n",
       "      <td>...</td>\n",
       "      <td>...</td>\n",
       "      <td>...</td>\n",
       "      <td>...</td>\n",
       "      <td>...</td>\n",
       "      <td>...</td>\n",
       "      <td>...</td>\n",
       "      <td>...</td>\n",
       "      <td>...</td>\n",
       "      <td>...</td>\n",
       "      <td>...</td>\n",
       "      <td>...</td>\n",
       "      <td>...</td>\n",
       "      <td>...</td>\n",
       "      <td>...</td>\n",
       "      <td>...</td>\n",
       "    </tr>\n",
       "    <tr>\n",
       "      <th>1404</th>\n",
       "      <td>5204-HMGYF</td>\n",
       "      <td>0</td>\n",
       "      <td>49</td>\n",
       "      <td>4.479607</td>\n",
       "      <td>8.377011</td>\n",
       "      <td>0</td>\n",
       "      <td>1</td>\n",
       "      <td>0</td>\n",
       "      <td>1</td>\n",
       "      <td>0</td>\n",
       "      <td>...</td>\n",
       "      <td>0</td>\n",
       "      <td>1</td>\n",
       "      <td>0</td>\n",
       "      <td>1</td>\n",
       "      <td>0</td>\n",
       "      <td>1</td>\n",
       "      <td>0</td>\n",
       "      <td>1</td>\n",
       "      <td>0</td>\n",
       "      <td>4</td>\n",
       "    </tr>\n",
       "    <tr>\n",
       "      <th>1405</th>\n",
       "      <td>9950-MTGYX</td>\n",
       "      <td>0</td>\n",
       "      <td>28</td>\n",
       "      <td>3.058707</td>\n",
       "      <td>6.192260</td>\n",
       "      <td>0</td>\n",
       "      <td>0</td>\n",
       "      <td>1</td>\n",
       "      <td>0</td>\n",
       "      <td>0</td>\n",
       "      <td>...</td>\n",
       "      <td>1</td>\n",
       "      <td>0</td>\n",
       "      <td>1</td>\n",
       "      <td>0</td>\n",
       "      <td>1</td>\n",
       "      <td>0</td>\n",
       "      <td>0</td>\n",
       "      <td>0</td>\n",
       "      <td>1</td>\n",
       "      <td>2</td>\n",
       "    </tr>\n",
       "    <tr>\n",
       "      <th>1406</th>\n",
       "      <td>3675-EQOZA</td>\n",
       "      <td>0</td>\n",
       "      <td>5</td>\n",
       "      <td>3.075005</td>\n",
       "      <td>4.549129</td>\n",
       "      <td>0</td>\n",
       "      <td>0</td>\n",
       "      <td>1</td>\n",
       "      <td>0</td>\n",
       "      <td>0</td>\n",
       "      <td>...</td>\n",
       "      <td>1</td>\n",
       "      <td>0</td>\n",
       "      <td>1</td>\n",
       "      <td>0</td>\n",
       "      <td>1</td>\n",
       "      <td>0</td>\n",
       "      <td>1</td>\n",
       "      <td>0</td>\n",
       "      <td>0</td>\n",
       "      <td>0</td>\n",
       "    </tr>\n",
       "    <tr>\n",
       "      <th>1407</th>\n",
       "      <td>3646-ITDGM</td>\n",
       "      <td>0</td>\n",
       "      <td>56</td>\n",
       "      <td>3.030134</td>\n",
       "      <td>6.959304</td>\n",
       "      <td>0</td>\n",
       "      <td>1</td>\n",
       "      <td>0</td>\n",
       "      <td>0</td>\n",
       "      <td>0</td>\n",
       "      <td>...</td>\n",
       "      <td>1</td>\n",
       "      <td>0</td>\n",
       "      <td>1</td>\n",
       "      <td>0</td>\n",
       "      <td>1</td>\n",
       "      <td>0</td>\n",
       "      <td>0</td>\n",
       "      <td>0</td>\n",
       "      <td>1</td>\n",
       "      <td>4</td>\n",
       "    </tr>\n",
       "    <tr>\n",
       "      <th>1408</th>\n",
       "      <td>3913-FCUUW</td>\n",
       "      <td>0</td>\n",
       "      <td>72</td>\n",
       "      <td>4.268998</td>\n",
       "      <td>8.549989</td>\n",
       "      <td>0</td>\n",
       "      <td>1</td>\n",
       "      <td>0</td>\n",
       "      <td>1</td>\n",
       "      <td>0</td>\n",
       "      <td>...</td>\n",
       "      <td>0</td>\n",
       "      <td>1</td>\n",
       "      <td>1</td>\n",
       "      <td>0</td>\n",
       "      <td>1</td>\n",
       "      <td>0</td>\n",
       "      <td>0</td>\n",
       "      <td>0</td>\n",
       "      <td>1</td>\n",
       "      <td>5</td>\n",
       "    </tr>\n",
       "  </tbody>\n",
       "</table>\n",
       "<p>1409 rows × 41 columns</p>\n",
       "</div>"
      ],
      "text/plain": [
       "      customerID  SeniorCitizen  tenure  MonthlyCharges  TotalCharges  Churn  \\\n",
       "0     4376-KFVRS              0      72        4.745367      9.044191      0   \n",
       "1     2754-SDJRD              1       8        4.616605      6.812950      0   \n",
       "2     9917-KWRBE              0      41        4.373868      8.074711      0   \n",
       "3     0365-GXEZS              0      18        4.371976      7.292848      0   \n",
       "4     9385-NXKDA              0      72        4.426641      8.686151      0   \n",
       "...          ...            ...     ...             ...           ...    ...   \n",
       "1404  5204-HMGYF              0      49        4.479607      8.377011      0   \n",
       "1405  9950-MTGYX              0      28        3.058707      6.192260      0   \n",
       "1406  3675-EQOZA              0       5        3.075005      4.549129      0   \n",
       "1407  3646-ITDGM              0      56        3.030134      6.959304      0   \n",
       "1408  3913-FCUUW              0      72        4.268998      8.549989      0   \n",
       "\n",
       "      gender_Female  gender_Male  InternetService_DSL  \\\n",
       "0                 0            1                    0   \n",
       "1                 1            0                    0   \n",
       "2                 1            0                    1   \n",
       "3                 0            1                    0   \n",
       "4                 1            0                    1   \n",
       "...             ...          ...                  ...   \n",
       "1404              1            0                    1   \n",
       "1405              0            1                    0   \n",
       "1406              0            1                    0   \n",
       "1407              1            0                    0   \n",
       "1408              1            0                    1   \n",
       "\n",
       "      InternetService_Fiber optic  ...  TechSupport_No  TechSupport_Yes  \\\n",
       "0                               1  ...               0                1   \n",
       "1                               1  ...               0                1   \n",
       "2                               0  ...               1                0   \n",
       "3                               1  ...               0                1   \n",
       "4                               0  ...               1                0   \n",
       "...                           ...  ...             ...              ...   \n",
       "1404                            0  ...               0                1   \n",
       "1405                            0  ...               1                0   \n",
       "1406                            0  ...               1                0   \n",
       "1407                            0  ...               1                0   \n",
       "1408                            0  ...               0                1   \n",
       "\n",
       "      StreamingTV_No  StreamingTV_Yes  StreamingMovies_No  \\\n",
       "0                  0                1                   0   \n",
       "1                  0                1                   0   \n",
       "2                  0                1                   1   \n",
       "3                  1                0                   1   \n",
       "4                  0                1                   0   \n",
       "...              ...              ...                 ...   \n",
       "1404               0                1                   0   \n",
       "1405               1                0                   1   \n",
       "1406               1                0                   1   \n",
       "1407               1                0                   1   \n",
       "1408               1                0                   1   \n",
       "\n",
       "      StreamingMovies_Yes  Contract_Month-to-month  Contract_One year  \\\n",
       "0                       1                        0                  0   \n",
       "1                       1                        1                  0   \n",
       "2                       0                        0                  1   \n",
       "3                       0                        1                  0   \n",
       "4                       1                        0                  0   \n",
       "...                   ...                      ...                ...   \n",
       "1404                    1                        0                  1   \n",
       "1405                    0                        0                  0   \n",
       "1406                    0                        1                  0   \n",
       "1407                    0                        0                  0   \n",
       "1408                    0                        0                  0   \n",
       "\n",
       "      Contract_Two year  tenure_range  \n",
       "0                     1             5  \n",
       "1                     0             0  \n",
       "2                     0             3  \n",
       "3                     0             1  \n",
       "4                     1             5  \n",
       "...                 ...           ...  \n",
       "1404                  0             4  \n",
       "1405                  1             2  \n",
       "1406                  0             0  \n",
       "1407                  1             4  \n",
       "1408                  1             5  \n",
       "\n",
       "[1409 rows x 41 columns]"
      ]
     },
     "execution_count": 23,
     "metadata": {},
     "output_type": "execute_result"
    }
   ],
   "source": [
    "test_df = test_prep(test_df)\n",
    "test_df"
   ]
  },
  {
   "cell_type": "code",
   "execution_count": 24,
   "id": "4edb6853",
   "metadata": {},
   "outputs": [],
   "source": [
    "X_test = test_df.drop(columns=['customerID','Churn'])\n",
    "y_test = test_df['Churn']"
   ]
  },
  {
   "cell_type": "markdown",
   "id": "8972430b",
   "metadata": {},
   "source": [
    "## Model training\n",
    "Trainig different models on the data to compare results of each model"
   ]
  },
  {
   "cell_type": "markdown",
   "id": "ec0ff7e4",
   "metadata": {},
   "source": [
    "1. **Logistic Regression**"
   ]
  },
  {
   "cell_type": "code",
   "execution_count": 25,
   "id": "934239f9",
   "metadata": {},
   "outputs": [
    {
     "name": "stdout",
     "output_type": "stream",
     "text": [
      "[0.66079295 0.65171898 0.6351145  0.78272605 0.9433526  0.93103448\n",
      " 0.93636364 0.91940976 0.92482916 0.93181818]\n"
     ]
    },
    {
     "data": {
      "text/plain": [
       "LogisticRegression(C=200, max_iter=1000)"
      ]
     },
     "execution_count": 25,
     "metadata": {},
     "output_type": "execute_result"
    }
   ],
   "source": [
    "model_logReg = LogisticRegression(C=200, max_iter=1000)\n",
    "\n",
    "scores = cross_val_score(model_logReg, X_train, y_train, cv=10, scoring=\"f1\")\n",
    "print(scores)\n",
    "model_logReg.fit(X_train, y_train)"
   ]
  },
  {
   "cell_type": "markdown",
   "id": "3186f4d1",
   "metadata": {},
   "source": [
    "**Testing the model**"
   ]
  },
  {
   "cell_type": "code",
   "execution_count": 26,
   "id": "498fffc1",
   "metadata": {},
   "outputs": [],
   "source": [
    "log_pred = model_logReg.predict(X_test)"
   ]
  },
  {
   "cell_type": "markdown",
   "id": "46543537",
   "metadata": {},
   "source": [
    "- **Confusion matrix**"
   ]
  },
  {
   "cell_type": "code",
   "execution_count": 27,
   "id": "0624dca9",
   "metadata": {},
   "outputs": [
    {
     "data": {
      "text/plain": [
       "[Text(0, 0.5, 'No'), Text(0, 1.5, 'Yes')]"
      ]
     },
     "execution_count": 27,
     "metadata": {},
     "output_type": "execute_result"
    },
    {
     "data": {
      "image/png": "[encoded data removed]",
      "text/plain": [
       "<Figure size 360x216 with 2 Axes>"
      ]
     },
     "metadata": {},
     "output_type": "display_data"
    }
   ],
   "source": [
    "cm = confusion_matrix(log_pred, y_test)\n",
    "f, ax= plt.subplots(1,1,figsize=(5,3))\n",
    "sns.heatmap(cm, annot=True, fmt='g', ax=ax)\n",
    "\n",
    "ax.set_xlabel('Predicted labels'); ax.set_ylabel('True labels') ; ax.set_title('Confusion Matrix')\n",
    "ax.xaxis.set_ticklabels(['No', 'Yes']) ; ax.yaxis.set_ticklabels(['No', 'Yes'])"
   ]
  },
  {
   "cell_type": "markdown",
   "id": "95bce295",
   "metadata": {},
   "source": [
    "- **Classification report**"
   ]
  },
  {
   "cell_type": "code",
   "execution_count": 28,
   "id": "b12f83ce",
   "metadata": {},
   "outputs": [
    {
     "name": "stdout",
     "output_type": "stream",
     "text": [
      "              precision    recall  f1-score   support\n",
      "\n",
      "          No       0.85      0.89      0.87      1035\n",
      "         Yes       0.65      0.58      0.62       374\n",
      "\n",
      "    accuracy                           0.81      1409\n",
      "   macro avg       0.75      0.74      0.74      1409\n",
      "weighted avg       0.80      0.81      0.80      1409\n",
      "\n"
     ]
    }
   ],
   "source": [
    "print(classification_report(y_test, log_pred, target_names=['No', 'Yes']))"
   ]
  },
  {
   "cell_type": "markdown",
   "id": "82414b55",
   "metadata": {},
   "source": [
    "## 2- SVM model"
   ]
  },
  {
   "cell_type": "code",
   "execution_count": 29,
   "id": "76326ad6",
   "metadata": {},
   "outputs": [
    {
     "name": "stdout",
     "output_type": "stream",
     "text": [
      "[0.66079295 0.65171898 0.6351145  0.78272605 0.9433526  0.93103448\n",
      " 0.93636364 0.91940976 0.92482916 0.93181818]\n"
     ]
    },
    {
     "data": {
      "text/plain": [
       "SVC(C=20, kernel='linear')"
      ]
     },
     "execution_count": 29,
     "metadata": {},
     "output_type": "execute_result"
    }
   ],
   "source": [
    "model_svm = SVC(kernel='linear', C=20)\n",
    "scores = cross_val_score(model_logReg, X_train, y_train, cv=10, scoring=\"f1\")\n",
    "print(scores)\n",
    "\n",
    "model_svm.fit(X_train, y_train)"
   ]
  },
  {
   "cell_type": "markdown",
   "id": "c6a619f0",
   "metadata": {},
   "source": [
    "**Testing the model**"
   ]
  },
  {
   "cell_type": "code",
   "execution_count": 30,
   "id": "c4908771",
   "metadata": {},
   "outputs": [],
   "source": [
    "svm_pred = model_svm.predict(X_test)"
   ]
  },
  {
   "cell_type": "markdown",
   "id": "c56bb574",
   "metadata": {},
   "source": [
    "- **Confusion matrix**"
   ]
  },
  {
   "cell_type": "code",
   "execution_count": 31,
   "id": "fb230911",
   "metadata": {},
   "outputs": [
    {
     "data": {
      "text/plain": [
       "[Text(0, 0.5, 'No'), Text(0, 1.5, 'Yes')]"
      ]
     },
     "execution_count": 31,
     "metadata": {},
     "output_type": "execute_result"
    },
    {
     "data": {
      "image/png": "[encoded data removed]",
      "text/plain": [
       "<Figure size 360x216 with 2 Axes>"
      ]
     },
     "metadata": {},
     "output_type": "display_data"
    }
   ],
   "source": [
    "cm = confusion_matrix(svm_pred, y_test)\n",
    "f, ax= plt.subplots(1,1,figsize=(5,3))\n",
    "sns.heatmap(cm, annot=True, fmt='g', ax=ax)\n",
    "\n",
    "ax.set_xlabel('Predicted labels'); ax.set_ylabel('True labels') ; ax.set_title('Confusion Matrix')\n",
    "ax.xaxis.set_ticklabels(['No', 'Yes']) ; ax.yaxis.set_ticklabels(['No', 'Yes'])"
   ]
  },
  {
   "cell_type": "markdown",
   "id": "4287582c",
   "metadata": {},
   "source": [
    "- **Classification report**"
   ]
  },
  {
   "cell_type": "code",
   "execution_count": 32,
   "id": "babe276f",
   "metadata": {},
   "outputs": [
    {
     "name": "stdout",
     "output_type": "stream",
     "text": [
      "              precision    recall  f1-score   support\n",
      "\n",
      "          No       0.85      0.89      0.87      1035\n",
      "         Yes       0.65      0.56      0.60       374\n",
      "\n",
      "    accuracy                           0.80      1409\n",
      "   macro avg       0.75      0.72      0.73      1409\n",
      "weighted avg       0.80      0.80      0.80      1409\n",
      "\n"
     ]
    }
   ],
   "source": [
    "print(classification_report(y_test, svm_pred, target_names=['No', 'Yes']))"
   ]
  },
  {
   "cell_type": "markdown",
   "id": "00d0e4f0",
   "metadata": {},
   "source": [
    "## 3- XGBoost model"
   ]
  },
  {
   "cell_type": "code",
   "execution_count": 65,
   "id": "67dac300",
   "metadata": {
    "scrolled": false
   },
   "outputs": [
    {
     "name": "stdout",
     "output_type": "stream",
     "text": [
      "[18:43:45] WARNING: C:/Users/Administrator/workspace/xgboost-win64_release_1.4.0/src/learner.cc:573: \n",
      "Parameters: { \"silent\", \"verbose\" } might not be used.\n",
      "\n",
      "  This may not be accurate due to some parameters are only used in language bindings but\n",
      "  passed down to XGBoost core.  Or some parameters are not used but slip through this\n",
      "  verification. Please open an issue if you find above cases.\n",
      "\n",
      "\n",
      "[18:43:45] WARNING: C:/Users/Administrator/workspace/xgboost-win64_release_1.4.0/src/learner.cc:1095: Starting in XGBoost 1.3.0, the default evaluation metric used with the objective 'binary:logistic' was changed from 'error' to 'logloss'. Explicitly set eval_metric if you'd like to restore the old behavior.\n",
      "XGBClassifier(base_score=0.5, booster='gbtree', colsample_bylevel=1,\n",
      "              colsample_bynode=1, colsample_bytree=1.0, gamma=5, gpu_id=-1,\n",
      "              importance_type='gain', interaction_constraints='',\n",
      "              learning_rate=0.08, max_delta_step=0, max_depth=8,\n",
      "              min_child_weight=10, missing=nan, monotone_constraints='()',\n",
      "              n_estimators=100, n_jobs=8, num_parallel_tree=1, random_state=0,\n",
      "              reg_alpha=0, reg_lambda=1, scale_pos_weight=1, silent=True,\n",
      "              subsample=0.8, tree_method='exact', validate_parameters=1,\n",
      "              verbose=-1, verbosity=None)\n"
     ]
    }
   ],
   "source": [
    "# A parameter grid for XGBoost\n",
    "params = {\n",
    "        'min_child_weight': [1, 5, 10],\n",
    "        'gamma': [1.5, 2, 5, 7],\n",
    "        'subsample': [0.6, 0.8, 1.0],\n",
    "        'colsample_bytree': [0.6, 0.8, 1.0],\n",
    "        'max_depth': [ 4, 5, 8]\n",
    "        }\n",
    "\n",
    "model_xgb = xgb.XGBClassifier(learning_rate= 0.08, n_estimators=100, objective='binary:logistic', silent=True, verbose=-1)\n",
    "\n",
    "skf = StratifiedKFold(n_splits= 5, shuffle = True, random_state = 0)\n",
    "random_search = RandomizedSearchCV(model_xgb, param_distributions=params, n_iter=5, scoring='roc_auc', \n",
    "                                   n_jobs=2,cv=skf.split(X_train, y_train), verbose=-1, random_state=0)\n",
    "\n",
    "_= random_search.fit(X_train, y_train)\n",
    "print(random_search.best_estimator_)"
   ]
  },
  {
   "cell_type": "markdown",
   "id": "4d85041d",
   "metadata": {},
   "source": [
    "**Testing the model**"
   ]
  },
  {
   "cell_type": "code",
   "execution_count": 66,
   "id": "6771e2f4",
   "metadata": {},
   "outputs": [],
   "source": [
    "xgb_pred = random_search.predict(X_test)"
   ]
  },
  {
   "cell_type": "markdown",
   "id": "57a4dcec",
   "metadata": {},
   "source": [
    "- **Confusion matrix**"
   ]
  },
  {
   "cell_type": "code",
   "execution_count": 67,
   "id": "72004fcd",
   "metadata": {},
   "outputs": [
    {
     "data": {
      "text/plain": [
       "[Text(0, 0.5, 'No'), Text(0, 1.5, 'Yes')]"
      ]
     },
     "execution_count": 67,
     "metadata": {},
     "output_type": "execute_result"
    },
    {
     "data": {
      "image/png": "[encoded data removed]",
      "text/plain": [
       "<Figure size 360x216 with 2 Axes>"
      ]
     },
     "metadata": {},
     "output_type": "display_data"
    }
   ],
   "source": [
    "cm = confusion_matrix(xgb_pred, y_test)\n",
    "f, ax= plt.subplots(1,1,figsize=(5,3))\n",
    "sns.heatmap(cm, annot=True, fmt='g', ax=ax)\n",
    "\n",
    "ax.set_xlabel('Predicted labels'); ax.set_ylabel('True labels') ; ax.set_title('Confusion Matrix')\n",
    "ax.xaxis.set_ticklabels(['No', 'Yes']) ; ax.yaxis.set_ticklabels(['No', 'Yes'])"
   ]
  },
  {
   "cell_type": "markdown",
   "id": "d126d465",
   "metadata": {},
   "source": [
    "- **Classification report**"
   ]
  },
  {
   "cell_type": "code",
   "execution_count": 68,
   "id": "ca93e9f8",
   "metadata": {},
   "outputs": [
    {
     "name": "stdout",
     "output_type": "stream",
     "text": [
      "              precision    recall  f1-score   support\n",
      "\n",
      "          No       0.85      0.85      0.85      1035\n",
      "         Yes       0.58      0.59      0.59       374\n",
      "\n",
      "    accuracy                           0.78      1409\n",
      "   macro avg       0.72      0.72      0.72      1409\n",
      "weighted avg       0.78      0.78      0.78      1409\n",
      "\n"
     ]
    }
   ],
   "source": [
    "print(classification_report(y_test, xgb_pred, target_names=['No', 'Yes']))"
   ]
  },
  {
   "cell_type": "markdown",
   "id": "bc640dfd",
   "metadata": {},
   "source": [
    "## 4- MLP model"
   ]
  },
  {
   "cell_type": "code",
   "execution_count": 41,
   "id": "1a0d94fa",
   "metadata": {},
   "outputs": [
    {
     "name": "stdout",
     "output_type": "stream",
     "text": [
      "[0.61042945 0.65781711 0.6734104  0.7664042  0.94077449 0.9395667\n",
      " 0.90371991 0.89978214 0.91111111 0.92393736]\n"
     ]
    },
    {
     "data": {
      "text/plain": [
       "MLPClassifier(max_iter=500, random_state=1)"
      ]
     },
     "execution_count": 41,
     "metadata": {},
     "output_type": "execute_result"
    }
   ],
   "source": [
    "model_mlp= MLPClassifier(random_state=1, max_iter=500)\n",
    "scores = cross_val_score(model_mlp, X_train, y_train, cv=10, scoring=\"f1\")\n",
    "print(scores)\n",
    "\n",
    "model_mlp.fit(X_train, y_train)"
   ]
  },
  {
   "cell_type": "markdown",
   "id": "315d0fea",
   "metadata": {},
   "source": [
    "**Testing the model**"
   ]
  },
  {
   "cell_type": "code",
   "execution_count": 42,
   "id": "906ff599",
   "metadata": {},
   "outputs": [],
   "source": [
    "mlp_pred = model_mlp.predict(X_test)"
   ]
  },
  {
   "cell_type": "markdown",
   "id": "eca2b071",
   "metadata": {},
   "source": [
    "- **Confusion matrix**"
   ]
  },
  {
   "cell_type": "code",
   "execution_count": 43,
   "id": "260a4853",
   "metadata": {},
   "outputs": [
    {
     "data": {
      "text/plain": [
       "[Text(0, 0.5, 'No'), Text(0, 1.5, 'Yes')]"
      ]
     },
     "execution_count": 43,
     "metadata": {},
     "output_type": "execute_result"
    },
    {
     "data": {
      "image/png": "[encoded data removed]",
      "text/plain": [
       "<Figure size 360x216 with 2 Axes>"
      ]
     },
     "metadata": {},
     "output_type": "display_data"
    }
   ],
   "source": [
    "cm = confusion_matrix(mlp_pred, y_test)\n",
    "f, ax= plt.subplots(1,1,figsize=(5,3))\n",
    "sns.heatmap(cm, annot=True, fmt='g', ax=ax)\n",
    "\n",
    "ax.set_xlabel('Predicted labels'); ax.set_ylabel('True labels') ; ax.set_title('Confusion Matrix')\n",
    "ax.xaxis.set_ticklabels(['No', 'Yes']) ; ax.yaxis.set_ticklabels(['No', 'Yes'])"
   ]
  },
  {
   "cell_type": "markdown",
   "id": "8f8c800b",
   "metadata": {},
   "source": [
    "- **Classification report**"
   ]
  },
  {
   "cell_type": "code",
   "execution_count": 64,
   "id": "76b365d0",
   "metadata": {},
   "outputs": [
    {
     "name": "stdout",
     "output_type": "stream",
     "text": [
      "              precision    recall  f1-score   support\n",
      "\n",
      "          No       0.88      0.84      0.86      1074\n",
      "         Yes       0.55      0.61      0.58       335\n",
      "\n",
      "    accuracy                           0.79      1409\n",
      "   macro avg       0.71      0.73      0.72      1409\n",
      "weighted avg       0.80      0.79      0.79      1409\n",
      "\n"
     ]
    }
   ],
   "source": [
    "print(classification_report(mlp_pred,y_test, target_names=['No', 'Yes']))"
   ]
  }
 ],
 "metadata": {
  "kernelspec": {
   "display_name": "Python 3",
   "language": "python",
   "name": "python3"
  },
  "language_info": {
   "codemirror_mode": {
    "name": "ipython",
    "version": 3
   },
   "file_extension": ".py",
   "mimetype": "text/x-python",
   "name": "python",
   "nbconvert_exporter": "python",
   "pygments_lexer": "ipython3",
   "version": "3.7.6"
  }
 },
 "nbformat": 4,
 "nbformat_minor": 5
}
